{
 "cells": [
  {
   "cell_type": "markdown",
   "metadata": {},
   "source": [
    "# INFO 634 Assignment 3 (12 points)\n",
    "\n",
    "## Preparation\n",
    "\n",
    "Before completing the assignment, please get yourself familiar with the models and techniques discussed in Week 6. In particular, you will be **well prepared** for the assignment if you have done **the following exercise**: \n",
    "\n",
    "+ [ ] [Probability and Linearity in Data](../demo/data_prob_linear.html)\n",
    "\n",
    "\n",
    "## A. Data Preparation (1 points)\n",
    "\n",
    "Please identify or prepare a text classification dataset. You can either: \n",
    "+ Find and download an **existing dataset**, OR\n",
    "+ **Create a dataset** on your own\n",
    "\n",
    "Some of the websites to search for a dataset: \n",
    "+ https://www.kaggle.com/datasets\n",
    "+ https://archive.ics.uci.edu/ml/datasets.php\n",
    "+ https://vincentarelbundock.github.io/Rdatasets/datasets.html\n",
    "\n",
    "Specific **requirements** of your dataset: \n",
    "1. [ ] It has to have **text** data, e.g. abstracts, news reports. \n",
    "2. [ ] It has to have a **class** attribute, e.g. with at least **two** categories or labels.\n",
    "3. [ ] It has to have at least: \n",
    "    + If it is an **existing dataset, 300+** data instances total and **100+** in each class, **OR**\n",
    "    + If you **create** the dataset, **30+** data instances total and **10+** in each class. \n",
    "4. [ ] Please **avoid** any dataset already used in **existing** exercises or assignments in this class. \n",
    "\n",
    "Please do: \n",
    "+ [ ] Include a **link** to your data or **submit** your data. \n",
    "+ [ ] Include a **brief description** of your data, attributes, and instances. \n",
    "+ [ ] Discuss the classification **task** on the data and **objectives**. "
   ]
  },
  {
   "cell_type": "code",
   "execution_count": 1,
   "metadata": {},
   "outputs": [],
   "source": [
    "import math\n",
    "import matplotlib.pyplot as plt\n",
    "from matplotlib import animation, rc\n",
    "import numpy as np\n",
    "import pandas as pd\n",
    "import seaborn as sns\n",
    "from numpy import linalg\n",
    "from scipy import stats\n",
    "from IPython.display import HTML, display"
   ]
  },
  {
   "cell_type": "code",
   "execution_count": 2,
   "metadata": {},
   "outputs": [],
   "source": [
    "news = pd.read_csv(\"fake_or_real_news.csv\", encoding=\"iso8859-1\")"
   ]
  },
  {
   "cell_type": "code",
   "execution_count": 3,
   "metadata": {},
   "outputs": [
    {
     "data": {
      "text/html": [
       "<div>\n",
       "<style scoped>\n",
       "    .dataframe tbody tr th:only-of-type {\n",
       "        vertical-align: middle;\n",
       "    }\n",
       "\n",
       "    .dataframe tbody tr th {\n",
       "        vertical-align: top;\n",
       "    }\n",
       "\n",
       "    .dataframe thead th {\n",
       "        text-align: right;\n",
       "    }\n",
       "</style>\n",
       "<table border=\"1\" class=\"dataframe\">\n",
       "  <thead>\n",
       "    <tr style=\"text-align: right;\">\n",
       "      <th></th>\n",
       "      <th>Unnamed: 0</th>\n",
       "      <th>title</th>\n",
       "      <th>text</th>\n",
       "      <th>label</th>\n",
       "    </tr>\n",
       "  </thead>\n",
       "  <tbody>\n",
       "    <tr>\n",
       "      <th>0</th>\n",
       "      <td>8476</td>\n",
       "      <td>You Can Smell Hillaryâs Fear</td>\n",
       "      <td>Daniel Greenfield, a Shillman Journalism Fello...</td>\n",
       "      <td>FAKE</td>\n",
       "    </tr>\n",
       "    <tr>\n",
       "      <th>1</th>\n",
       "      <td>10294</td>\n",
       "      <td>Watch The Exact Moment Paul Ryan Committed Pol...</td>\n",
       "      <td>Google Pinterest Digg Linkedin Reddit Stumbleu...</td>\n",
       "      <td>FAKE</td>\n",
       "    </tr>\n",
       "    <tr>\n",
       "      <th>2</th>\n",
       "      <td>3608</td>\n",
       "      <td>Kerry to go to Paris in gesture of sympathy</td>\n",
       "      <td>U.S. Secretary of State John F. Kerry said Mon...</td>\n",
       "      <td>REAL</td>\n",
       "    </tr>\n",
       "    <tr>\n",
       "      <th>3</th>\n",
       "      <td>10142</td>\n",
       "      <td>Bernie supporters on Twitter erupt in anger ag...</td>\n",
       "      <td>â Kaydee King (@KaydeeKing) November 9, 2016...</td>\n",
       "      <td>FAKE</td>\n",
       "    </tr>\n",
       "    <tr>\n",
       "      <th>4</th>\n",
       "      <td>875</td>\n",
       "      <td>The Battle of New York: Why This Primary Matters</td>\n",
       "      <td>It's primary day in New York and front-runners...</td>\n",
       "      <td>REAL</td>\n",
       "    </tr>\n",
       "  </tbody>\n",
       "</table>\n",
       "</div>"
      ],
      "text/plain": [
       "   Unnamed: 0                                              title  \\\n",
       "0        8476                     You Can Smell Hillaryâs Fear   \n",
       "1       10294  Watch The Exact Moment Paul Ryan Committed Pol...   \n",
       "2        3608        Kerry to go to Paris in gesture of sympathy   \n",
       "3       10142  Bernie supporters on Twitter erupt in anger ag...   \n",
       "4         875   The Battle of New York: Why This Primary Matters   \n",
       "\n",
       "                                                text label  \n",
       "0  Daniel Greenfield, a Shillman Journalism Fello...  FAKE  \n",
       "1  Google Pinterest Digg Linkedin Reddit Stumbleu...  FAKE  \n",
       "2  U.S. Secretary of State John F. Kerry said Mon...  REAL  \n",
       "3  â Kaydee King (@KaydeeKing) November 9, 2016...  FAKE  \n",
       "4  It's primary day in New York and front-runners...  REAL  "
      ]
     },
     "execution_count": 3,
     "metadata": {},
     "output_type": "execute_result"
    }
   ],
   "source": [
    "news.head()"
   ]
  },
  {
   "cell_type": "code",
   "execution_count": 4,
   "metadata": {},
   "outputs": [
    {
     "data": {
      "text/plain": [
       "(6335, 4)"
      ]
     },
     "execution_count": 4,
     "metadata": {},
     "output_type": "execute_result"
    }
   ],
   "source": [
    "news.shape"
   ]
  },
  {
   "cell_type": "code",
   "execution_count": 5,
   "metadata": {},
   "outputs": [],
   "source": [
    "#news = news.head(300)\n",
    "#news.shape"
   ]
  },
  {
   "cell_type": "markdown",
   "metadata": {},
   "source": [
    "## B. Probabilities and Zipf (3 points)\n",
    "\n",
    "### B.1. Class Distributions and Probabilities (0.5 point)\n",
    "\n",
    "Find out the number of instances in each class $c$ and compute it's probability $p(c)$. Compile a table like this (example): \n",
    "\n",
    "|   Class $c$    |  Instances $n_c$  |   Probability $p(c)$   |\n",
    "|----------------|-------------------|------------------------|\n",
    "| Fake           |    100            | $\\frac{100}{300} = 1/3$|\n",
    "| True           |    200            | $\\frac{200}{300} = 2/3$|"
   ]
  },
  {
   "cell_type": "code",
   "execution_count": 6,
   "metadata": {},
   "outputs": [],
   "source": [
    "classes = news[\"label\"].value_counts()"
   ]
  },
  {
   "cell_type": "code",
   "execution_count": 7,
   "metadata": {},
   "outputs": [
    {
     "name": "stdout",
     "output_type": "stream",
     "text": [
      "Class Instances Probability\n",
      "REAL\t3171\t0.5\n",
      "FAKE\t3164\t0.5\n"
     ]
    }
   ],
   "source": [
    "total = len(news)\n",
    "print(\"Class\",\"Instances\", \"Probability\")\n",
    "for lab, val in zip(classes.index, classes):\n",
    "    print(lab, val, round(val/total,2), sep=\"\\t\")"
   ]
  },
  {
   "cell_type": "markdown",
   "metadata": {},
   "source": [
    "### B.2. Term Probabilities and Zipf's Law (2.5 points)\n",
    "\n",
    "Conduct analysis in the following steps to obtain the term probability pattern in your text data. You can follow the example in [Probability and Linearity in Data](../demo/data_prob_linear.html) to use ```CountVectorizer``` from ```sklearn.feature_extraction.text```. "
   ]
  },
  {
   "cell_type": "code",
   "execution_count": 8,
   "metadata": {},
   "outputs": [],
   "source": [
    "# create the stop_words\n",
    "from wordcloud import STOPWORDS\n",
    "stop_words = set(STOPWORDS)\n",
    "l = list(stop_words)\n",
    "l.extend(['take', 'say','back','day','see','says','know','well','said', 'one', 'now', \n",
    "          'even', 'two', 'people','xi','xii','xiii','xiv','xv','xvi','may', 'will', \n",
    "          'use','aren', 'couldn', 'didn', 'doesn', 'don', 'had', 'has', \n",
    "          'have', 'is', 'us','let', 'll', 'mustn', 're', 'shan', 'shouldn', \n",
    "          've', 'wasn', 'weren', 'won', 'wouldn','go','much','iâ','d','m','s','t','â',\n",
    "          'hadn', 'hasn', 'haven', 'isn','He', 'But', 'In', \"I\", \"The\", \"This\"])\n",
    "stop_words = set(l)"
   ]
  },
  {
   "cell_type": "code",
   "execution_count": 9,
   "metadata": {},
   "outputs": [
    {
     "data": {
      "text/html": [
       "<div>\n",
       "<style scoped>\n",
       "    .dataframe tbody tr th:only-of-type {\n",
       "        vertical-align: middle;\n",
       "    }\n",
       "\n",
       "    .dataframe tbody tr th {\n",
       "        vertical-align: top;\n",
       "    }\n",
       "\n",
       "    .dataframe thead th {\n",
       "        text-align: right;\n",
       "    }\n",
       "</style>\n",
       "<table border=\"1\" class=\"dataframe\">\n",
       "  <thead>\n",
       "    <tr style=\"text-align: right;\">\n",
       "      <th></th>\n",
       "      <th>t</th>\n",
       "      <th>f</th>\n",
       "    </tr>\n",
       "  </thead>\n",
       "  <tbody>\n",
       "    <tr>\n",
       "      <th>0</th>\n",
       "      <td>trump</td>\n",
       "      <td>19937</td>\n",
       "    </tr>\n",
       "    <tr>\n",
       "      <th>1</th>\n",
       "      <td>clinton</td>\n",
       "      <td>15503</td>\n",
       "    </tr>\n",
       "    <tr>\n",
       "      <th>2</th>\n",
       "      <td>new</td>\n",
       "      <td>9318</td>\n",
       "    </tr>\n",
       "    <tr>\n",
       "      <th>3</th>\n",
       "      <td>state</td>\n",
       "      <td>8854</td>\n",
       "    </tr>\n",
       "    <tr>\n",
       "      <th>4</th>\n",
       "      <td>president</td>\n",
       "      <td>8536</td>\n",
       "    </tr>\n",
       "  </tbody>\n",
       "</table>\n",
       "</div>"
      ],
      "text/plain": [
       "           t      f\n",
       "0      trump  19937\n",
       "1    clinton  15503\n",
       "2        new   9318\n",
       "3      state   8854\n",
       "4  president   8536"
      ]
     },
     "execution_count": 9,
     "metadata": {},
     "output_type": "execute_result"
    }
   ],
   "source": [
    "from sklearn.feature_extraction.text import CountVectorizer\n",
    "\n",
    "# instantiate a count vectorizer\n",
    "vect = CountVectorizer(analyzer=\"word\", stop_words=stop_words, token_pattern=r'\\b[^\\d\\W]+\\b')\n",
    "# obtain vocabulary dictionary and return doc-term matrix\n",
    "X = vect.fit_transform(news.text) \n",
    "# get the identified terms\n",
    "terms = vect.get_feature_names()\n",
    "# sum terms' frequencies in the entire collection\n",
    "freqs = X.toarray().sum(axis=0)\n",
    "terms = np.array(terms)\n",
    "freqs = np.array(freqs)\n",
    "\n",
    "# organize the terms and frequencies in t and f columns\n",
    "tfs = pd.DataFrame({'t':terms, 'f':freqs}, columns=['t','f'])\n",
    "tfs = tfs.sort_values(by=['f'], ascending=False)\n",
    "tfs = tfs.reset_index(drop=True)\n",
    "tfs.head()"
   ]
  },
  {
   "cell_type": "markdown",
   "metadata": {},
   "source": [
    "#### B.2.1. Rank, Frequency, and Probability\n",
    "\n",
    "Rank terms by frequency and show the top five with probabilities (example): \n",
    "\n",
    "|      |t       |$k_t$ |$f_t$| $p_t$ |\n",
    "|------|--------|------|-----|-------|\n",
    "|0     |to      |1     |2242 |   |\n",
    "|1     |you     |2     |2240 |   |\n",
    "|2     |the     |3     |1328 |   |\n",
    "|3     |and     |4     |979  |   |\n",
    "|4     |in      |5     |898  |   |"
   ]
  },
  {
   "cell_type": "code",
   "execution_count": 10,
   "metadata": {
    "scrolled": true
   },
   "outputs": [
    {
     "data": {
      "text/html": [
       "<div>\n",
       "<style scoped>\n",
       "    .dataframe tbody tr th:only-of-type {\n",
       "        vertical-align: middle;\n",
       "    }\n",
       "\n",
       "    .dataframe tbody tr th {\n",
       "        vertical-align: top;\n",
       "    }\n",
       "\n",
       "    .dataframe thead th {\n",
       "        text-align: right;\n",
       "    }\n",
       "</style>\n",
       "<table border=\"1\" class=\"dataframe\">\n",
       "  <thead>\n",
       "    <tr style=\"text-align: right;\">\n",
       "      <th></th>\n",
       "      <th>t</th>\n",
       "      <th>k</th>\n",
       "      <th>f</th>\n",
       "    </tr>\n",
       "  </thead>\n",
       "  <tbody>\n",
       "    <tr>\n",
       "      <th>0</th>\n",
       "      <td>trump</td>\n",
       "      <td>1</td>\n",
       "      <td>19937</td>\n",
       "    </tr>\n",
       "    <tr>\n",
       "      <th>1</th>\n",
       "      <td>clinton</td>\n",
       "      <td>2</td>\n",
       "      <td>15503</td>\n",
       "    </tr>\n",
       "    <tr>\n",
       "      <th>2</th>\n",
       "      <td>new</td>\n",
       "      <td>3</td>\n",
       "      <td>9318</td>\n",
       "    </tr>\n",
       "    <tr>\n",
       "      <th>3</th>\n",
       "      <td>state</td>\n",
       "      <td>4</td>\n",
       "      <td>8854</td>\n",
       "    </tr>\n",
       "    <tr>\n",
       "      <th>4</th>\n",
       "      <td>president</td>\n",
       "      <td>5</td>\n",
       "      <td>8536</td>\n",
       "    </tr>\n",
       "  </tbody>\n",
       "</table>\n",
       "</div>"
      ],
      "text/plain": [
       "           t  k      f\n",
       "0      trump  1  19937\n",
       "1    clinton  2  15503\n",
       "2        new  3   9318\n",
       "3      state  4   8854\n",
       "4  president  5   8536"
      ]
     },
     "execution_count": 10,
     "metadata": {},
     "output_type": "execute_result"
    }
   ],
   "source": [
    "tfs['k'] = tfs.index + 1\n",
    "tfs[['t','k','f']].head()"
   ]
  },
  {
   "cell_type": "markdown",
   "metadata": {},
   "source": [
    "#### B.2.2. Probability vs. Rank Plot\n",
    "\n",
    "Produce a probability $p_t$ vs. $k_t$ plot on **log-log** coordinates. "
   ]
  },
  {
   "cell_type": "code",
   "execution_count": 11,
   "metadata": {},
   "outputs": [
    {
     "data": {
      "text/html": [
       "<div>\n",
       "<style scoped>\n",
       "    .dataframe tbody tr th:only-of-type {\n",
       "        vertical-align: middle;\n",
       "    }\n",
       "\n",
       "    .dataframe tbody tr th {\n",
       "        vertical-align: top;\n",
       "    }\n",
       "\n",
       "    .dataframe thead th {\n",
       "        text-align: right;\n",
       "    }\n",
       "</style>\n",
       "<table border=\"1\" class=\"dataframe\">\n",
       "  <thead>\n",
       "    <tr style=\"text-align: right;\">\n",
       "      <th></th>\n",
       "      <th>t</th>\n",
       "      <th>k</th>\n",
       "      <th>p</th>\n",
       "      <th>f</th>\n",
       "    </tr>\n",
       "  </thead>\n",
       "  <tbody>\n",
       "    <tr>\n",
       "      <th>0</th>\n",
       "      <td>trump</td>\n",
       "      <td>1</td>\n",
       "      <td>0.007644</td>\n",
       "      <td>19937</td>\n",
       "    </tr>\n",
       "    <tr>\n",
       "      <th>1</th>\n",
       "      <td>clinton</td>\n",
       "      <td>2</td>\n",
       "      <td>0.005944</td>\n",
       "      <td>15503</td>\n",
       "    </tr>\n",
       "    <tr>\n",
       "      <th>2</th>\n",
       "      <td>new</td>\n",
       "      <td>3</td>\n",
       "      <td>0.003572</td>\n",
       "      <td>9318</td>\n",
       "    </tr>\n",
       "    <tr>\n",
       "      <th>3</th>\n",
       "      <td>state</td>\n",
       "      <td>4</td>\n",
       "      <td>0.003395</td>\n",
       "      <td>8854</td>\n",
       "    </tr>\n",
       "    <tr>\n",
       "      <th>4</th>\n",
       "      <td>president</td>\n",
       "      <td>5</td>\n",
       "      <td>0.003273</td>\n",
       "      <td>8536</td>\n",
       "    </tr>\n",
       "  </tbody>\n",
       "</table>\n",
       "</div>"
      ],
      "text/plain": [
       "           t  k         p      f\n",
       "0      trump  1  0.007644  19937\n",
       "1    clinton  2  0.005944  15503\n",
       "2        new  3  0.003572   9318\n",
       "3      state  4  0.003395   8854\n",
       "4  president  5  0.003273   8536"
      ]
     },
     "execution_count": 11,
     "metadata": {},
     "output_type": "execute_result"
    }
   ],
   "source": [
    "ttf = tfs['f'].sum()\n",
    "tfs['p'] = tfs['f'] / ttf\n",
    "tfs[['t','k','p','f']].head()"
   ]
  },
  {
   "cell_type": "code",
   "execution_count": 12,
   "metadata": {},
   "outputs": [
    {
     "data": {
      "image/png": "[encoded data removed]",
      "text/plain": [
       "<Figure size 432x288 with 1 Axes>"
      ]
     },
     "metadata": {
      "needs_background": "light"
     },
     "output_type": "display_data"
    }
   ],
   "source": [
    "plt.loglog(tfs['k'], tfs['p'])\n",
    "plt.xlabel('Rank $k_t$')\n",
    "plt.ylabel('Probability $p_t$')\n",
    "plt.show()"
   ]
  },
  {
   "cell_type": "markdown",
   "metadata": {},
   "source": [
    "#### B.2.3. Regression line \n",
    "\n",
    "Use linear regression to fit the $log(p_t) \\sim log(k_t)$ relation: \n",
    "1. Identify the **coefficient** value from the regression, e.g. a value like $-1.2$ means $p_t \\propto \\frac{1}{k_t^{1.2}}$. \n",
    "2. Plot the regression line on the $p_t$ vs. $k_t$ plot. \n",
    "3. Do your data follow Zipf's law? Discuss the visual pattern, the fitted coefficient, and the regression line. "
   ]
  },
  {
   "cell_type": "code",
   "execution_count": 13,
   "metadata": {},
   "outputs": [
    {
     "data": {
      "image/png": "[encoded data removed]",
      "text/plain": [
       "<Figure size 432x288 with 1 Axes>"
      ]
     },
     "metadata": {
      "needs_background": "light"
     },
     "output_type": "display_data"
    }
   ],
   "source": [
    "from sklearn.linear_model import LinearRegression\n",
    "\n",
    "# log transformation of k and p values\n",
    "x = tfs['k'].values.reshape(-1,1)\n",
    "xlog = np.log(x)\n",
    "y = tfs['p'].values.reshape(-1,1)\n",
    "ylog = np.log(y)\n",
    "\n",
    "# perform linear regression on log values\n",
    "lm = LinearRegression()\n",
    "lm.fit(xlog,ylog)\n",
    "yplog = lm.predict(xlog)\n",
    "\n",
    "# plot the fitted (predicted) line \n",
    "# along with actual k_t and p_t data\n",
    "plt.loglog(tfs['k'], tfs['p'], label=\"Observed Data\")\n",
    "plt.loglog(x, np.exp(yplog), \n",
    "           label=\"$p_t = k_t^{\" + \"{:.2f}\".format(lm.coef_[0][0]) + \"}$\")\n",
    "plt.xlabel('Rank $k_t$')\n",
    "plt.ylabel('Probability $p_t$')\n",
    "plt.legend()\n",
    "plt.show()"
   ]
  },
  {
   "cell_type": "code",
   "execution_count": 14,
   "metadata": {},
   "outputs": [
    {
     "data": {
      "text/plain": [
       "-1.59902822274253"
      ]
     },
     "execution_count": 14,
     "metadata": {},
     "output_type": "execute_result"
    }
   ],
   "source": [
    "lm.coef_[0][0]"
   ]
  },
  {
   "cell_type": "markdown",
   "metadata": {},
   "source": [
    "So the fitted line is roughly: \n",
    "\n",
    "\\begin{eqnarray} \n",
    "    p_t & = & k_t^{-1.6} \\\\\n",
    "    & = & \\frac{1}{k_t^{1.6}}\n",
    "\\end{eqnarray}\n",
    "\n",
    "Not exactly $p_t = \\frac{1}{k_t}$ as the Zipf's law suggests. "
   ]
  },
  {
   "cell_type": "markdown",
   "metadata": {},
   "source": [
    "## C. Text Vectorization (2 points)\n",
    "\n",
    "### C.1. Training and Test Data\n",
    "\n",
    "Split your data into $80\\%$ training and $20\\%$ test data. "
   ]
  },
  {
   "cell_type": "code",
   "execution_count": 15,
   "metadata": {},
   "outputs": [],
   "source": [
    "# generate random true (80% chance) or false values\n",
    "news  = news[[\"text\", \"label\"]]\n",
    "train_index = np.random.rand(len(news)) < 0.8\n",
    "# use the above list to take the training (true values)\n",
    "train = news[train_index]\n",
    "# the opposite (rest) is for testing\n",
    "test = news[~train_index]"
   ]
  },
  {
   "cell_type": "markdown",
   "metadata": {},
   "source": [
    "### C.2. Text Vectorization\n",
    "\n",
    "Use the ```CountVectorizer``` to: \n",
    "1. [ ] Vectorize (fit) your **training** data, based on the ```text``` field. \n",
    "2. [ ] Your vectorizer should now have a set of **features** (words) from the training data \n",
    "3. [ ] Transform your **test** data (text field), with the same vectorizer. "
   ]
  },
  {
   "cell_type": "code",
   "execution_count": 16,
   "metadata": {},
   "outputs": [],
   "source": [
    "vect = CountVectorizer(analyzer=\"word\", stop_words=stop_words, token_pattern=r'\\b[^\\d\\W]+\\b',\n",
    "                      lowercase=False)\n",
    "X_train = vect.fit_transform(train.text)"
   ]
  },
  {
   "cell_type": "code",
   "execution_count": 17,
   "metadata": {},
   "outputs": [],
   "source": [
    "X_test = vect.transform(test.text)"
   ]
  },
  {
   "cell_type": "markdown",
   "metadata": {},
   "source": [
    "### C.3. Terms and Conditional Probabilities\n",
    "\n",
    "**Think** about two terms (words): \n",
    "1. [ ] One term (word) $t_1$ that is relevant to one class $c_1$, e.g. ```prize``` for a **spam** class for spam classification. \n",
    "2. [ ] A second term (word) $t_2$ that is relevant to another class $c_2$. \n",
    "\n",
    "Identify their conditional probabilities: \n",
    "\n",
    "\\begin{eqnarray}\n",
    "p(t_1|c_1) & = & ... \\\\\n",
    "p(t_1|c_2) & = & ... \\\\\n",
    "p(t_2|c_1) & = & ... \\\\\n",
    "p(t_2|c_2) & = & ... \\\\\n",
    "\\end{eqnarray}\n",
    "\n",
    "Discuss and explain: \n",
    "1. [ ] What do these probabilities mean? \n",
    "2. [ ] Are the above probability values reasonable (sensible)? Why or why not? \n",
    "3. [ ] Do you think they will be helpful in the classification task?"
   ]
  },
  {
   "cell_type": "code",
   "execution_count": 18,
   "metadata": {},
   "outputs": [
    {
     "data": {
      "text/plain": [
       "(2566, 82872)"
      ]
     },
     "execution_count": 18,
     "metadata": {},
     "output_type": "execute_result"
    }
   ],
   "source": [
    "real_index = train['label']=='REAL'\n",
    "real = train[real_index]\n",
    "fake = train[~real_index]\n",
    "X_real = vect.transform(real.text)\n",
    "X_fake = vect.transform(fake.text)\n",
    "X_real.shape"
   ]
  },
  {
   "cell_type": "code",
   "execution_count": 19,
   "metadata": {},
   "outputs": [],
   "source": [
    "# obtain real news vocabulary \n",
    "terms = vect.get_feature_names()\n",
    "# sum terms' frequencies in the entire collection\n",
    "freqs = X_real.toarray().sum(axis=0)\n",
    "real_terms = np.array(terms)\n",
    "real_freqs = np.array(freqs)"
   ]
  },
  {
   "cell_type": "code",
   "execution_count": 20,
   "metadata": {},
   "outputs": [],
   "source": [
    "real_f = X_real.toarray().sum(axis=0)\n",
    "real_ttf = real_f.sum()\n",
    "\n",
    "fake_f = X_fake.toarray().sum(axis=0)\n",
    "fake_ttf = fake_f.sum()"
   ]
  },
  {
   "cell_type": "markdown",
   "metadata": {},
   "source": [
    "## Checking probability of each term for both the classes for p > 0.002"
   ]
  },
  {
   "cell_type": "code",
   "execution_count": 22,
   "metadata": {},
   "outputs": [
    {
     "name": "stdout",
     "output_type": "stream",
     "text": [
      "p(Clinton|real) = 0.0060361, smoothed to 0.0060369\n",
      "p(Clinton|fake) = 0.0050513, smoothed to 0.0050523\n",
      "p(Hillary|fake) = 0.0034927, smoothed to 0.0034938\n",
      "p(Obama|real) = 0.0034541, smoothed to 0.0034549\n",
      "p(Republican|real) = 0.0031568, smoothed to 0.0031575\n",
      "p(Trump|real) = 0.0091905, smoothed to 0.0091913\n",
      "p(Trump|fake) = 0.0050429, smoothed to 0.0050440\n",
      "p(campaign|real) = 0.0034910, smoothed to 0.0034918\n"
     ]
    }
   ],
   "source": [
    "for word in terms:\n",
    "    t2 = word\n",
    "    i2 = terms.index(t2)\n",
    "    f = real_f[i2]\n",
    "    p = f / real_ttf\n",
    "    ps = (f+1)/(real_ttf+2)\n",
    "    if p > 0.003:\n",
    "        print(\"p({:s}|real) = {:.7f}, smoothed to {:.7f}\".format(t2, p, ps))\n",
    "\n",
    "    f = fake_f[i2]\n",
    "    p = f / fake_ttf\n",
    "    ps = (f+1)/(fake_ttf+2)\n",
    "    if p > 0.003:\n",
    "        print(\"p({:s}|fake) = {:.7f}, smoothed to {:.7f}\".format(t2, p, ps))"
   ]
  },
  {
   "cell_type": "code",
   "execution_count": 23,
   "metadata": {},
   "outputs": [
    {
     "name": "stdout",
     "output_type": "stream",
     "text": [
      "The 14782th term is: Hillary\n"
     ]
    }
   ],
   "source": [
    "#t1 = Hillary for fake news\n",
    "t1 = \"Hillary\"\n",
    "i1 = terms.index(t1)\n",
    "print(\"The {:d}th term is: {:s}\".format(i1, t1))"
   ]
  },
  {
   "cell_type": "code",
   "execution_count": 24,
   "metadata": {},
   "outputs": [
    {
     "name": "stdout",
     "output_type": "stream",
     "text": [
      "The 27425th term is: Republican\n"
     ]
    }
   ],
   "source": [
    "#t2 = Republican for real news\n",
    "t2 = \"Republican\"\n",
    "i2 = terms.index(t2)\n",
    "print(\"The {:d}th term is: {:s}\".format(i2, t2))"
   ]
  },
  {
   "cell_type": "code",
   "execution_count": 25,
   "metadata": {},
   "outputs": [
    {
     "name": "stdout",
     "output_type": "stream",
     "text": [
      "Real terms:  1247485\n",
      "Fake terms:  955989\n"
     ]
    }
   ],
   "source": [
    "print(\"Real terms: \", real_ttf)\n",
    "print(\"Fake terms: \", fake_ttf)"
   ]
  },
  {
   "cell_type": "code",
   "execution_count": 26,
   "metadata": {},
   "outputs": [
    {
     "name": "stdout",
     "output_type": "stream",
     "text": [
      "p(Hillary|real) = 0.0016152, smoothed to 0.0016160\n",
      "p(Hillary|fake) = 0.0034927, smoothed to 0.0034938\n"
     ]
    }
   ],
   "source": [
    "f = real_f[i1]\n",
    "p = f / real_ttf\n",
    "ps = (f+1)/(real_ttf+2)\n",
    "print(\"p({:s}|real) = {:.7f}, smoothed to {:.7f}\".format(t1, p, ps))\n",
    "\n",
    "f = fake_f[i1]\n",
    "p = f / fake_ttf\n",
    "ps = (f+1)/(fake_ttf+2)\n",
    "print(\"p({:s}|fake) = {:.7f}, smoothed to {:.7f}\".format(t1, p, ps))"
   ]
  },
  {
   "cell_type": "markdown",
   "metadata": {},
   "source": [
    "You see probablity is less for term \"Hillary\" to appear in a real news. "
   ]
  },
  {
   "cell_type": "code",
   "execution_count": 27,
   "metadata": {},
   "outputs": [
    {
     "name": "stdout",
     "output_type": "stream",
     "text": [
      "p(Republican|real) = 0.0031568, smoothed to 0.0031575\n",
      "p(Republican|fake) = 0.0007762, smoothed to 0.0007772\n"
     ]
    }
   ],
   "source": [
    "f = real_f[i2]\n",
    "p = f / real_ttf\n",
    "ps = (f+1)/(real_ttf+2)\n",
    "print(\"p({:s}|real) = {:.7f}, smoothed to {:.7f}\".format(t2, p, ps))\n",
    "\n",
    "f = fake_f[i2]\n",
    "p = f / fake_ttf\n",
    "ps = (f+1)/(fake_ttf+2)\n",
    "print(\"p({:s}|fake) = {:.7f}, smoothed to {:.7f}\".format(t2, p, ps))"
   ]
  },
  {
   "cell_type": "markdown",
   "metadata": {},
   "source": [
    "You see it is very unlikely for term \"Republican\" to appear in a fake news. "
   ]
  },
  {
   "cell_type": "markdown",
   "metadata": {},
   "source": [
    "## D. Classification (5 points)\n",
    "\n",
    "### D.1. Probabilistic Naive Bayes Model (2 points)\n",
    "\n",
    "Pick one of the Naive Bayes models we discussed: ```BernoulliNB``` **OR** ```MultinomialNB```, and conduct the following experiments: \n",
    "\n",
    "1. [ ] Pick an **alpha** parameter, build and train (fit) the model using the $80\\%$ training data. \n",
    "2. [ ] Test (predict) the model on the $20\\%$ test data. \n",
    "3. [ ] Evaluate, show the **confusion matrix**. \n",
    "4. [ ] Discuss, for your task and objectives, **which number(s)** in the confusion matrix is most important, that you wish to minimize or maximize? Why? \n",
    "5. [ ] Compute **accuracy**, **kappa**, and a **3rd metric** (do some research in ```sklearn.metrics```) that best evaluates evaluate your objective in the above **\\#4** bullet point. \n",
    "6. [ ] Change **alpha**, train, test, and evaluate again. \n",
    "\n",
    "|  Model                 |  Accuracy   |  Kappa     |  3rd Metric  |\n",
    "|------------------------|-------------|------------|--------------|\n",
    "| Naive Bayes $\\alpha_1$ |             |            |              |\n",
    "| Naive Bayes $\\alpha_2$ |             |            |              |"
   ]
  },
  {
   "cell_type": "code",
   "execution_count": 28,
   "metadata": {},
   "outputs": [
    {
     "data": {
      "image/png": "[encoded data removed]",
      "text/plain": [
       "<Figure size 432x288 with 2 Axes>"
      ]
     },
     "metadata": {
      "needs_background": "light"
     },
     "output_type": "display_data"
    }
   ],
   "source": [
    "from sklearn.naive_bayes import BernoulliNB\n",
    "from sklearn.metrics import confusion_matrix, plot_confusion_matrix\n",
    "from sklearn.metrics import accuracy_score, cohen_kappa_score,hamming_loss\n",
    "# build the Bernoulli Naive Bayes classifiers\n",
    "# with parameters, such as: \n",
    "# 1. alpha value for the Laplace estimator (smoothing)\n",
    "# 2. binarize, the threshold/cutoff for 0 or 1 values\n",
    "bNB = BernoulliNB(alpha=.0000001, binarize=0.0)\n",
    "bNB.fit(X_train, train.label)\n",
    "v1p = bNB.predict(X_test)\n",
    "confusion_matrix(v1p, test.label)\n",
    "plot_confusion_matrix(bNB, X_test, test.label, values_format='d');\n",
    "\n",
    "acc = round(accuracy_score(v1p, test.label),2)\n",
    "kappa = round(cohen_kappa_score(v1p, test.label),2)\n",
    "hamming = round(hamming_loss(v1p, test.label),2)"
   ]
  },
  {
   "cell_type": "code",
   "execution_count": 29,
   "metadata": {},
   "outputs": [
    {
     "data": {
      "text/html": [
       "<div>\n",
       "<style scoped>\n",
       "    .dataframe tbody tr th:only-of-type {\n",
       "        vertical-align: middle;\n",
       "    }\n",
       "\n",
       "    .dataframe tbody tr th {\n",
       "        vertical-align: top;\n",
       "    }\n",
       "\n",
       "    .dataframe thead th {\n",
       "        text-align: right;\n",
       "    }\n",
       "</style>\n",
       "<table border=\"1\" class=\"dataframe\">\n",
       "  <thead>\n",
       "    <tr style=\"text-align: right;\">\n",
       "      <th></th>\n",
       "      <th>Model</th>\n",
       "      <th>Accuracy</th>\n",
       "      <th>Kappa</th>\n",
       "      <th>Hamming Loss</th>\n",
       "    </tr>\n",
       "  </thead>\n",
       "  <tbody>\n",
       "    <tr>\n",
       "      <th>0</th>\n",
       "      <td>Naive Bayes α1</td>\n",
       "      <td>0.88</td>\n",
       "      <td>0.76</td>\n",
       "      <td>0.12</td>\n",
       "    </tr>\n",
       "  </tbody>\n",
       "</table>\n",
       "</div>"
      ],
      "text/plain": [
       "            Model Accuracy Kappa Hamming Loss\n",
       "0  Naive Bayes α1     0.88  0.76         0.12"
      ]
     },
     "execution_count": 29,
     "metadata": {},
     "output_type": "execute_result"
    }
   ],
   "source": [
    "df = pd.DataFrame(data=np.array([\"Naive Bayes α1\", acc, kappa,hamming]).reshape(1,4), \n",
    "                  columns=[\"Model\",\"Accuracy\",\"Kappa\",\"Hamming Loss\"])\n",
    "df"
   ]
  },
  {
   "cell_type": "code",
   "execution_count": 30,
   "metadata": {},
   "outputs": [
    {
     "name": "stdout",
     "output_type": "stream",
     "text": [
      "Accuracy for alpha: 0.1 : 0.866885784716516\n",
      "Accuracy for alpha: 0.001 : 0.8734593262119967\n",
      "Accuracy for alpha: 1 : 0.8414133114215283\n",
      "Accuracy for alpha: 2 : 0.828266228430567\n"
     ]
    }
   ],
   "source": [
    "# try for different alpha\n",
    "a = [0.1,0.001, 1,2 ]\n",
    "for i in a:\n",
    "    bNB = BernoulliNB(alpha=i)\n",
    "    bNB.fit(X_train, train.label)\n",
    "    print(\"Accuracy for alpha:\", i, \":\", bNB.score(X_test, test.label))"
   ]
  },
  {
   "cell_type": "markdown",
   "metadata": {},
   "source": [
    "Best score is for alpha close to 0"
   ]
  },
  {
   "cell_type": "code",
   "execution_count": 31,
   "metadata": {
    "scrolled": true
   },
   "outputs": [
    {
     "data": {
      "image/png": "[encoded data removed]",
      "text/plain": [
       "<Figure size 432x288 with 2 Axes>"
      ]
     },
     "metadata": {
      "needs_background": "light"
     },
     "output_type": "display_data"
    }
   ],
   "source": [
    "bNB = BernoulliNB(alpha=0.00000001)\n",
    "bNB.fit(X_train, train.label)\n",
    "v1p = bNB.predict(X_test)\n",
    "confusion_matrix(v1p, test.label)\n",
    "plot_confusion_matrix(bNB, X_test, test.label, values_format='d');\n",
    "acc = round(accuracy_score(v1p, test.label),2)\n",
    "kappa = round(cohen_kappa_score(v1p, test.label),2)\n",
    "hamming = round(hamming_loss(v1p, test.label),2)"
   ]
  },
  {
   "cell_type": "code",
   "execution_count": 32,
   "metadata": {},
   "outputs": [
    {
     "name": "stdout",
     "output_type": "stream",
     "text": [
      "          Model Accuracy Kappa Hamming Loss\n",
      " Naive Bayes α1     0.88  0.76         0.12\n",
      " Naive Bayes α2     0.88  0.77         0.12\n"
     ]
    }
   ],
   "source": [
    "new_row = {\"Model\":\"Naive Bayes α2\",\"Accuracy\": acc,\"Kappa\":kappa,\"Hamming Loss\":hamming}\n",
    "df = df.append(new_row,ignore_index=True)\n",
    "print (df.to_string(index=False))"
   ]
  },
  {
   "cell_type": "markdown",
   "metadata": {},
   "source": [
    "### D.2. Linear Model (2 points)\n",
    "\n",
    "#### D.2.1. Linearity\n",
    "\n",
    "Remember the two terms $t_1$ and $t_2$ for two classes $c_1$ and $c_2$ you picked earlier? \n",
    "\n",
    "Scatter plot the training data with: \n",
    "\n",
    "1. [ ] $t_1$ and $t_2$ as the $X$ and $Y$ axes. \n",
    "2. [ ] **Color code** data points based on their classes $c_1$ and $c_2$. \n",
    "    + You only need to plot data in the two classes. \n",
    "    + Make sure the two colors are distinguishable. \n",
    "3. [ ] Discuss whether: \n",
    "    + The two classes are (roughly) **separable** on the plot? \n",
    "    + The two classes are **linearly** separable on the plot? \n",
    "    + (Optional) It is possible they are linearly separable in a higher dimensional space with **all term features**? "
   ]
  },
  {
   "cell_type": "code",
   "execution_count": 33,
   "metadata": {},
   "outputs": [],
   "source": [
    "train.reset_index(inplace=True)\n",
    "\n",
    "# converting sparse matrix to a dataframe using terms t1 and t2\n",
    "df = X_train.toarray()\n",
    "df = df[:,[vect.vocabulary_[t1],vect.vocabulary_[t2]]]\n",
    "df = pd.DataFrame(df, columns=[\"Term1\", \"Term2\"])\n",
    "df['label'] = train.label\n",
    "df['class'] = df['label'].apply(lambda r : 1 if r == 'REAL' else 0)"
   ]
  },
  {
   "cell_type": "code",
   "execution_count": 34,
   "metadata": {},
   "outputs": [
    {
     "data": {
      "text/plain": [
       "1    2566\n",
       "0    2552\n",
       "Name: class, dtype: int64"
      ]
     },
     "execution_count": 34,
     "metadata": {},
     "output_type": "execute_result"
    }
   ],
   "source": [
    "df['class'].value_counts()"
   ]
  },
  {
   "cell_type": "code",
   "execution_count": 35,
   "metadata": {},
   "outputs": [
    {
     "data": {
      "text/html": [
       "<div>\n",
       "<style scoped>\n",
       "    .dataframe tbody tr th:only-of-type {\n",
       "        vertical-align: middle;\n",
       "    }\n",
       "\n",
       "    .dataframe tbody tr th {\n",
       "        vertical-align: top;\n",
       "    }\n",
       "\n",
       "    .dataframe thead th {\n",
       "        text-align: right;\n",
       "    }\n",
       "</style>\n",
       "<table border=\"1\" class=\"dataframe\">\n",
       "  <thead>\n",
       "    <tr style=\"text-align: right;\">\n",
       "      <th></th>\n",
       "      <th>Term1</th>\n",
       "      <th>Term2</th>\n",
       "      <th>label</th>\n",
       "      <th>class</th>\n",
       "    </tr>\n",
       "  </thead>\n",
       "  <tbody>\n",
       "    <tr>\n",
       "      <th>0</th>\n",
       "      <td>0</td>\n",
       "      <td>1</td>\n",
       "      <td>FAKE</td>\n",
       "      <td>0</td>\n",
       "    </tr>\n",
       "    <tr>\n",
       "      <th>1</th>\n",
       "      <td>0</td>\n",
       "      <td>0</td>\n",
       "      <td>REAL</td>\n",
       "      <td>1</td>\n",
       "    </tr>\n",
       "    <tr>\n",
       "      <th>2</th>\n",
       "      <td>5</td>\n",
       "      <td>1</td>\n",
       "      <td>FAKE</td>\n",
       "      <td>0</td>\n",
       "    </tr>\n",
       "    <tr>\n",
       "      <th>3</th>\n",
       "      <td>4</td>\n",
       "      <td>2</td>\n",
       "      <td>REAL</td>\n",
       "      <td>1</td>\n",
       "    </tr>\n",
       "    <tr>\n",
       "      <th>4</th>\n",
       "      <td>0</td>\n",
       "      <td>0</td>\n",
       "      <td>FAKE</td>\n",
       "      <td>0</td>\n",
       "    </tr>\n",
       "  </tbody>\n",
       "</table>\n",
       "</div>"
      ],
      "text/plain": [
       "   Term1  Term2 label  class\n",
       "0      0      1  FAKE      0\n",
       "1      0      0  REAL      1\n",
       "2      5      1  FAKE      0\n",
       "3      4      2  REAL      1\n",
       "4      0      0  FAKE      0"
      ]
     },
     "execution_count": 35,
     "metadata": {},
     "output_type": "execute_result"
    }
   ],
   "source": [
    "df.head()"
   ]
  },
  {
   "cell_type": "code",
   "execution_count": 36,
   "metadata": {
    "scrolled": true
   },
   "outputs": [
    {
     "data": {
      "image/png": "[encoded data removed]",
      "text/plain": [
       "<Figure size 432x288 with 2 Axes>"
      ]
     },
     "metadata": {
      "needs_background": "light"
     },
     "output_type": "display_data"
    }
   ],
   "source": [
    "fig, ax1 = plt.subplots()\n",
    "df.plot.scatter(x='Term1', y ='Term2',s= 40 ,c= 'class', cmap='viridis', ax=ax1);"
   ]
  },
  {
   "cell_type": "markdown",
   "metadata": {},
   "source": [
    "Conclusion = The two classes are (roughly) **linearly separable** on the plot"
   ]
  },
  {
   "cell_type": "code",
   "execution_count": 37,
   "metadata": {},
   "outputs": [],
   "source": [
    "from mpl_toolkits.mplot3d import Axes3D\n",
    "import matplotlib.pyplot as plt\n",
    "%matplotlib notebook"
   ]
  },
  {
   "cell_type": "code",
   "execution_count": 38,
   "metadata": {
    "scrolled": true
   },
   "outputs": [
    {
     "data": {
      "application/javascript": [
       "/* Put everything inside the global mpl namespace */\n",
       "window.mpl = {};\n",
       "\n",
       "\n",
       "mpl.get_websocket_type = function() {\n",
       "    if (typeof(WebSocket) !== 'undefined') {\n",
       "        return WebSocket;\n",
       "    } else if (typeof(MozWebSocket) !== 'undefined') {\n",
       "        return MozWebSocket;\n",
       "    } else {\n",
       "        alert('Your browser does not have WebSocket support. ' +\n",
       "              'Please try Chrome, Safari or Firefox ≥ 6. ' +\n",
       "              'Firefox 4 and 5 are also supported but you ' +\n",
       "              'have to enable WebSockets in about:config.');\n",
       "    };\n",
       "}\n",
       "\n",
       "mpl.figure = function(figure_id, websocket, ondownload, parent_element) {\n",
       "    this.id = figure_id;\n",
       "\n",
       "    this.ws = websocket;\n",
       "\n",
       "    this.supports_binary = (this.ws.binaryType != undefined);\n",
       "\n",
       "    if (!this.supports_binary) {\n",
       "        var warnings = document.getElementById(\"mpl-warnings\");\n",
       "        if (warnings) {\n",
       "            warnings.style.display = 'block';\n",
       "            warnings.textContent = (\n",
       "                \"This browser does not support binary websocket messages. \" +\n",
       "                    \"Performance may be slow.\");\n",
       "        }\n",
       "    }\n",
       "\n",
       "    this.imageObj = new Image();\n",
       "\n",
       "    this.context = undefined;\n",
       "    this.message = undefined;\n",
       "    this.canvas = undefined;\n",
       "    this.rubberband_canvas = undefined;\n",
       "    this.rubberband_context = undefined;\n",
       "    this.format_dropdown = undefined;\n",
       "\n",
       "    this.image_mode = 'full';\n",
       "\n",
       "    this.root = $('<div/>');\n",
       "    this._root_extra_style(this.root)\n",
       "    this.root.attr('style', 'display: inline-block');\n",
       "\n",
       "    $(parent_element).append(this.root);\n",
       "\n",
       "    this._init_header(this);\n",
       "    this._init_canvas(this);\n",
       "    this._init_toolbar(this);\n",
       "\n",
       "    var fig = this;\n",
       "\n",
       "    this.waiting = false;\n",
       "\n",
       "    this.ws.onopen =  function () {\n",
       "            fig.send_message(\"supports_binary\", {value: fig.supports_binary});\n",
       "            fig.send_message(\"send_image_mode\", {});\n",
       "            if (mpl.ratio != 1) {\n",
       "                fig.send_message(\"set_dpi_ratio\", {'dpi_ratio': mpl.ratio});\n",
       "            }\n",
       "            fig.send_message(\"refresh\", {});\n",
       "        }\n",
       "\n",
       "    this.imageObj.onload = function() {\n",
       "            if (fig.image_mode == 'full') {\n",
       "                // Full images could contain transparency (where diff images\n",
       "                // almost always do), so we need to clear the canvas so that\n",
       "                // there is no ghosting.\n",
       "                fig.context.clearRect(0, 0, fig.canvas.width, fig.canvas.height);\n",
       "            }\n",
       "            fig.context.drawImage(fig.imageObj, 0, 0);\n",
       "        };\n",
       "\n",
       "    this.imageObj.onunload = function() {\n",
       "        fig.ws.close();\n",
       "    }\n",
       "\n",
       "    this.ws.onmessage = this._make_on_message_function(this);\n",
       "\n",
       "    this.ondownload = ondownload;\n",
       "}\n",
       "\n",
       "mpl.figure.prototype._init_header = function() {\n",
       "    var titlebar = $(\n",
       "        '<div class=\"ui-dialog-titlebar ui-widget-header ui-corner-all ' +\n",
       "        'ui-helper-clearfix\"/>');\n",
       "    var titletext = $(\n",
       "        '<div class=\"ui-dialog-title\" style=\"width: 100%; ' +\n",
       "        'text-align: center; padding: 3px;\"/>');\n",
       "    titlebar.append(titletext)\n",
       "    this.root.append(titlebar);\n",
       "    this.header = titletext[0];\n",
       "}\n",
       "\n",
       "\n",
       "\n",
       "mpl.figure.prototype._canvas_extra_style = function(canvas_div) {\n",
       "\n",
       "}\n",
       "\n",
       "\n",
       "mpl.figure.prototype._root_extra_style = function(canvas_div) {\n",
       "\n",
       "}\n",
       "\n",
       "mpl.figure.prototype._init_canvas = function() {\n",
       "    var fig = this;\n",
       "\n",
       "    var canvas_div = $('<div/>');\n",
       "\n",
       "    canvas_div.attr('style', 'position: relative; clear: both; outline: 0');\n",
       "\n",
       "    function canvas_keyboard_event(event) {\n",
       "        return fig.key_event(event, event['data']);\n",
       "    }\n",
       "\n",
       "    canvas_div.keydown('key_press', canvas_keyboard_event);\n",
       "    canvas_div.keyup('key_release', canvas_keyboard_event);\n",
       "    this.canvas_div = canvas_div\n",
       "    this._canvas_extra_style(canvas_div)\n",
       "    this.root.append(canvas_div);\n",
       "\n",
       "    var canvas = $('<canvas/>');\n",
       "    canvas.addClass('mpl-canvas');\n",
       "    canvas.attr('style', \"left: 0; top: 0; z-index: 0; outline: 0\")\n",
       "\n",
       "    this.canvas = canvas[0];\n",
       "    this.context = canvas[0].getContext(\"2d\");\n",
       "\n",
       "    var backingStore = this.context.backingStorePixelRatio ||\n",
       "\tthis.context.webkitBackingStorePixelRatio ||\n",
       "\tthis.context.mozBackingStorePixelRatio ||\n",
       "\tthis.context.msBackingStorePixelRatio ||\n",
       "\tthis.context.oBackingStorePixelRatio ||\n",
       "\tthis.context.backingStorePixelRatio || 1;\n",
       "\n",
       "    mpl.ratio = (window.devicePixelRatio || 1) / backingStore;\n",
       "\n",
       "    var rubberband = $('<canvas/>');\n",
       "    rubberband.attr('style', \"position: absolute; left: 0; top: 0; z-index: 1;\")\n",
       "\n",
       "    var pass_mouse_events = true;\n",
       "\n",
       "    canvas_div.resizable({\n",
       "        start: function(event, ui) {\n",
       "            pass_mouse_events = false;\n",
       "        },\n",
       "        resize: function(event, ui) {\n",
       "            fig.request_resize(ui.size.width, ui.size.height);\n",
       "        },\n",
       "        stop: function(event, ui) {\n",
       "            pass_mouse_events = true;\n",
       "            fig.request_resize(ui.size.width, ui.size.height);\n",
       "        },\n",
       "    });\n",
       "\n",
       "    function mouse_event_fn(event) {\n",
       "        if (pass_mouse_events)\n",
       "            return fig.mouse_event(event, event['data']);\n",
       "    }\n",
       "\n",
       "    rubberband.mousedown('button_press', mouse_event_fn);\n",
       "    rubberband.mouseup('button_release', mouse_event_fn);\n",
       "    // Throttle sequential mouse events to 1 every 20ms.\n",
       "    rubberband.mousemove('motion_notify', mouse_event_fn);\n",
       "\n",
       "    rubberband.mouseenter('figure_enter', mouse_event_fn);\n",
       "    rubberband.mouseleave('figure_leave', mouse_event_fn);\n",
       "\n",
       "    canvas_div.on(\"wheel\", function (event) {\n",
       "        event = event.originalEvent;\n",
       "        event['data'] = 'scroll'\n",
       "        if (event.deltaY < 0) {\n",
       "            event.step = 1;\n",
       "        } else {\n",
       "            event.step = -1;\n",
       "        }\n",
       "        mouse_event_fn(event);\n",
       "    });\n",
       "\n",
       "    canvas_div.append(canvas);\n",
       "    canvas_div.append(rubberband);\n",
       "\n",
       "    this.rubberband = rubberband;\n",
       "    this.rubberband_canvas = rubberband[0];\n",
       "    this.rubberband_context = rubberband[0].getContext(\"2d\");\n",
       "    this.rubberband_context.strokeStyle = \"#000000\";\n",
       "\n",
       "    this._resize_canvas = function(width, height) {\n",
       "        // Keep the size of the canvas, canvas container, and rubber band\n",
       "        // canvas in synch.\n",
       "        canvas_div.css('width', width)\n",
       "        canvas_div.css('height', height)\n",
       "\n",
       "        canvas.attr('width', width * mpl.ratio);\n",
       "        canvas.attr('height', height * mpl.ratio);\n",
       "        canvas.attr('style', 'width: ' + width + 'px; height: ' + height + 'px;');\n",
       "\n",
       "        rubberband.attr('width', width);\n",
       "        rubberband.attr('height', height);\n",
       "    }\n",
       "\n",
       "    // Set the figure to an initial 600x600px, this will subsequently be updated\n",
       "    // upon first draw.\n",
       "    this._resize_canvas(600, 600);\n",
       "\n",
       "    // Disable right mouse context menu.\n",
       "    $(this.rubberband_canvas).bind(\"contextmenu\",function(e){\n",
       "        return false;\n",
       "    });\n",
       "\n",
       "    function set_focus () {\n",
       "        canvas.focus();\n",
       "        canvas_div.focus();\n",
       "    }\n",
       "\n",
       "    window.setTimeout(set_focus, 100);\n",
       "}\n",
       "\n",
       "mpl.figure.prototype._init_toolbar = function() {\n",
       "    var fig = this;\n",
       "\n",
       "    var nav_element = $('<div/>');\n",
       "    nav_element.attr('style', 'width: 100%');\n",
       "    this.root.append(nav_element);\n",
       "\n",
       "    // Define a callback function for later on.\n",
       "    function toolbar_event(event) {\n",
       "        return fig.toolbar_button_onclick(event['data']);\n",
       "    }\n",
       "    function toolbar_mouse_event(event) {\n",
       "        return fig.toolbar_button_onmouseover(event['data']);\n",
       "    }\n",
       "\n",
       "    for(var toolbar_ind in mpl.toolbar_items) {\n",
       "        var name = mpl.toolbar_items[toolbar_ind][0];\n",
       "        var tooltip = mpl.toolbar_items[toolbar_ind][1];\n",
       "        var image = mpl.toolbar_items[toolbar_ind][2];\n",
       "        var method_name = mpl.toolbar_items[toolbar_ind][3];\n",
       "\n",
       "        if (!name) {\n",
       "            // put a spacer in here.\n",
       "            continue;\n",
       "        }\n",
       "        var button = $('<button/>');\n",
       "        button.addClass('ui-button ui-widget ui-state-default ui-corner-all ' +\n",
       "                        'ui-button-icon-only');\n",
       "        button.attr('role', 'button');\n",
       "        button.attr('aria-disabled', 'false');\n",
       "        button.click(method_name, toolbar_event);\n",
       "        button.mouseover(tooltip, toolbar_mouse_event);\n",
       "\n",
       "        var icon_img = $('<span/>');\n",
       "        icon_img.addClass('ui-button-icon-primary ui-icon');\n",
       "        icon_img.addClass(image);\n",
       "        icon_img.addClass('ui-corner-all');\n",
       "\n",
       "        var tooltip_span = $('<span/>');\n",
       "        tooltip_span.addClass('ui-button-text');\n",
       "        tooltip_span.html(tooltip);\n",
       "\n",
       "        button.append(icon_img);\n",
       "        button.append(tooltip_span);\n",
       "\n",
       "        nav_element.append(button);\n",
       "    }\n",
       "\n",
       "    var fmt_picker_span = $('<span/>');\n",
       "\n",
       "    var fmt_picker = $('<select/>');\n",
       "    fmt_picker.addClass('mpl-toolbar-option ui-widget ui-widget-content');\n",
       "    fmt_picker_span.append(fmt_picker);\n",
       "    nav_element.append(fmt_picker_span);\n",
       "    this.format_dropdown = fmt_picker[0];\n",
       "\n",
       "    for (var ind in mpl.extensions) {\n",
       "        var fmt = mpl.extensions[ind];\n",
       "        var option = $(\n",
       "            '<option/>', {selected: fmt === mpl.default_extension}).html(fmt);\n",
       "        fmt_picker.append(option);\n",
       "    }\n",
       "\n",
       "    // Add hover states to the ui-buttons\n",
       "    $( \".ui-button\" ).hover(\n",
       "        function() { $(this).addClass(\"ui-state-hover\");},\n",
       "        function() { $(this).removeClass(\"ui-state-hover\");}\n",
       "    );\n",
       "\n",
       "    var status_bar = $('<span class=\"mpl-message\"/>');\n",
       "    nav_element.append(status_bar);\n",
       "    this.message = status_bar[0];\n",
       "}\n",
       "\n",
       "mpl.figure.prototype.request_resize = function(x_pixels, y_pixels) {\n",
       "    // Request matplotlib to resize the figure. Matplotlib will then trigger a resize in the client,\n",
       "    // which will in turn request a refresh of the image.\n",
       "    this.send_message('resize', {'width': x_pixels, 'height': y_pixels});\n",
       "}\n",
       "\n",
       "mpl.figure.prototype.send_message = function(type, properties) {\n",
       "    properties['type'] = type;\n",
       "    properties['figure_id'] = this.id;\n",
       "    this.ws.send(JSON.stringify(properties));\n",
       "}\n",
       "\n",
       "mpl.figure.prototype.send_draw_message = function() {\n",
       "    if (!this.waiting) {\n",
       "        this.waiting = true;\n",
       "        this.ws.send(JSON.stringify({type: \"draw\", figure_id: this.id}));\n",
       "    }\n",
       "}\n",
       "\n",
       "\n",
       "mpl.figure.prototype.handle_save = function(fig, msg) {\n",
       "    var format_dropdown = fig.format_dropdown;\n",
       "    var format = format_dropdown.options[format_dropdown.selectedIndex].value;\n",
       "    fig.ondownload(fig, format);\n",
       "}\n",
       "\n",
       "\n",
       "mpl.figure.prototype.handle_resize = function(fig, msg) {\n",
       "    var size = msg['size'];\n",
       "    if (size[0] != fig.canvas.width || size[1] != fig.canvas.height) {\n",
       "        fig._resize_canvas(size[0], size[1]);\n",
       "        fig.send_message(\"refresh\", {});\n",
       "    };\n",
       "}\n",
       "\n",
       "mpl.figure.prototype.handle_rubberband = function(fig, msg) {\n",
       "    var x0 = msg['x0'] / mpl.ratio;\n",
       "    var y0 = (fig.canvas.height - msg['y0']) / mpl.ratio;\n",
       "    var x1 = msg['x1'] / mpl.ratio;\n",
       "    var y1 = (fig.canvas.height - msg['y1']) / mpl.ratio;\n",
       "    x0 = Math.floor(x0) + 0.5;\n",
       "    y0 = Math.floor(y0) + 0.5;\n",
       "    x1 = Math.floor(x1) + 0.5;\n",
       "    y1 = Math.floor(y1) + 0.5;\n",
       "    var min_x = Math.min(x0, x1);\n",
       "    var min_y = Math.min(y0, y1);\n",
       "    var width = Math.abs(x1 - x0);\n",
       "    var height = Math.abs(y1 - y0);\n",
       "\n",
       "    fig.rubberband_context.clearRect(\n",
       "        0, 0, fig.canvas.width / mpl.ratio, fig.canvas.height / mpl.ratio);\n",
       "\n",
       "    fig.rubberband_context.strokeRect(min_x, min_y, width, height);\n",
       "}\n",
       "\n",
       "mpl.figure.prototype.handle_figure_label = function(fig, msg) {\n",
       "    // Updates the figure title.\n",
       "    fig.header.textContent = msg['label'];\n",
       "}\n",
       "\n",
       "mpl.figure.prototype.handle_cursor = function(fig, msg) {\n",
       "    var cursor = msg['cursor'];\n",
       "    switch(cursor)\n",
       "    {\n",
       "    case 0:\n",
       "        cursor = 'pointer';\n",
       "        break;\n",
       "    case 1:\n",
       "        cursor = 'default';\n",
       "        break;\n",
       "    case 2:\n",
       "        cursor = 'crosshair';\n",
       "        break;\n",
       "    case 3:\n",
       "        cursor = 'move';\n",
       "        break;\n",
       "    }\n",
       "    fig.rubberband_canvas.style.cursor = cursor;\n",
       "}\n",
       "\n",
       "mpl.figure.prototype.handle_message = function(fig, msg) {\n",
       "    fig.message.textContent = msg['message'];\n",
       "}\n",
       "\n",
       "mpl.figure.prototype.handle_draw = function(fig, msg) {\n",
       "    // Request the server to send over a new figure.\n",
       "    fig.send_draw_message();\n",
       "}\n",
       "\n",
       "mpl.figure.prototype.handle_image_mode = function(fig, msg) {\n",
       "    fig.image_mode = msg['mode'];\n",
       "}\n",
       "\n",
       "mpl.figure.prototype.updated_canvas_event = function() {\n",
       "    // Called whenever the canvas gets updated.\n",
       "    this.send_message(\"ack\", {});\n",
       "}\n",
       "\n",
       "// A function to construct a web socket function for onmessage handling.\n",
       "// Called in the figure constructor.\n",
       "mpl.figure.prototype._make_on_message_function = function(fig) {\n",
       "    return function socket_on_message(evt) {\n",
       "        if (evt.data instanceof Blob) {\n",
       "            /* FIXME: We get \"Resource interpreted as Image but\n",
       "             * transferred with MIME type text/plain:\" errors on\n",
       "             * Chrome.  But how to set the MIME type?  It doesn't seem\n",
       "             * to be part of the websocket stream */\n",
       "            evt.data.type = \"image/png\";\n",
       "\n",
       "            /* Free the memory for the previous frames */\n",
       "            if (fig.imageObj.src) {\n",
       "                (window.URL || window.webkitURL).revokeObjectURL(\n",
       "                    fig.imageObj.src);\n",
       "            }\n",
       "\n",
       "            fig.imageObj.src = (window.URL || window.webkitURL).createObjectURL(\n",
       "                evt.data);\n",
       "            fig.updated_canvas_event();\n",
       "            fig.waiting = false;\n",
       "            return;\n",
       "        }\n",
       "        else if (typeof evt.data === 'string' && evt.data.slice(0, 21) == \"data:image/png;base64\") {\n",
       "            fig.imageObj.src = evt.data;\n",
       "            fig.updated_canvas_event();\n",
       "            fig.waiting = false;\n",
       "            return;\n",
       "        }\n",
       "\n",
       "        var msg = JSON.parse(evt.data);\n",
       "        var msg_type = msg['type'];\n",
       "\n",
       "        // Call the  \"handle_{type}\" callback, which takes\n",
       "        // the figure and JSON message as its only arguments.\n",
       "        try {\n",
       "            var callback = fig[\"handle_\" + msg_type];\n",
       "        } catch (e) {\n",
       "            console.log(\"No handler for the '\" + msg_type + \"' message type: \", msg);\n",
       "            return;\n",
       "        }\n",
       "\n",
       "        if (callback) {\n",
       "            try {\n",
       "                // console.log(\"Handling '\" + msg_type + \"' message: \", msg);\n",
       "                callback(fig, msg);\n",
       "            } catch (e) {\n",
       "                console.log(\"Exception inside the 'handler_\" + msg_type + \"' callback:\", e, e.stack, msg);\n",
       "            }\n",
       "        }\n",
       "    };\n",
       "}\n",
       "\n",
       "// from http://stackoverflow.com/questions/1114465/getting-mouse-location-in-canvas\n",
       "mpl.findpos = function(e) {\n",
       "    //this section is from http://www.quirksmode.org/js/events_properties.html\n",
       "    var targ;\n",
       "    if (!e)\n",
       "        e = window.event;\n",
       "    if (e.target)\n",
       "        targ = e.target;\n",
       "    else if (e.srcElement)\n",
       "        targ = e.srcElement;\n",
       "    if (targ.nodeType == 3) // defeat Safari bug\n",
       "        targ = targ.parentNode;\n",
       "\n",
       "    // jQuery normalizes the pageX and pageY\n",
       "    // pageX,Y are the mouse positions relative to the document\n",
       "    // offset() returns the position of the element relative to the document\n",
       "    var x = e.pageX - $(targ).offset().left;\n",
       "    var y = e.pageY - $(targ).offset().top;\n",
       "\n",
       "    return {\"x\": x, \"y\": y};\n",
       "};\n",
       "\n",
       "/*\n",
       " * return a copy of an object with only non-object keys\n",
       " * we need this to avoid circular references\n",
       " * http://stackoverflow.com/a/24161582/3208463\n",
       " */\n",
       "function simpleKeys (original) {\n",
       "  return Object.keys(original).reduce(function (obj, key) {\n",
       "    if (typeof original[key] !== 'object')\n",
       "        obj[key] = original[key]\n",
       "    return obj;\n",
       "  }, {});\n",
       "}\n",
       "\n",
       "mpl.figure.prototype.mouse_event = function(event, name) {\n",
       "    var canvas_pos = mpl.findpos(event)\n",
       "\n",
       "    if (name === 'button_press')\n",
       "    {\n",
       "        this.canvas.focus();\n",
       "        this.canvas_div.focus();\n",
       "    }\n",
       "\n",
       "    var x = canvas_pos.x * mpl.ratio;\n",
       "    var y = canvas_pos.y * mpl.ratio;\n",
       "\n",
       "    this.send_message(name, {x: x, y: y, button: event.button,\n",
       "                             step: event.step,\n",
       "                             guiEvent: simpleKeys(event)});\n",
       "\n",
       "    /* This prevents the web browser from automatically changing to\n",
       "     * the text insertion cursor when the button is pressed.  We want\n",
       "     * to control all of the cursor setting manually through the\n",
       "     * 'cursor' event from matplotlib */\n",
       "    event.preventDefault();\n",
       "    return false;\n",
       "}\n",
       "\n",
       "mpl.figure.prototype._key_event_extra = function(event, name) {\n",
       "    // Handle any extra behaviour associated with a key event\n",
       "}\n",
       "\n",
       "mpl.figure.prototype.key_event = function(event, name) {\n",
       "\n",
       "    // Prevent repeat events\n",
       "    if (name == 'key_press')\n",
       "    {\n",
       "        if (event.which === this._key)\n",
       "            return;\n",
       "        else\n",
       "            this._key = event.which;\n",
       "    }\n",
       "    if (name == 'key_release')\n",
       "        this._key = null;\n",
       "\n",
       "    var value = '';\n",
       "    if (event.ctrlKey && event.which != 17)\n",
       "        value += \"ctrl+\";\n",
       "    if (event.altKey && event.which != 18)\n",
       "        value += \"alt+\";\n",
       "    if (event.shiftKey && event.which != 16)\n",
       "        value += \"shift+\";\n",
       "\n",
       "    value += 'k';\n",
       "    value += event.which.toString();\n",
       "\n",
       "    this._key_event_extra(event, name);\n",
       "\n",
       "    this.send_message(name, {key: value,\n",
       "                             guiEvent: simpleKeys(event)});\n",
       "    return false;\n",
       "}\n",
       "\n",
       "mpl.figure.prototype.toolbar_button_onclick = function(name) {\n",
       "    if (name == 'download') {\n",
       "        this.handle_save(this, null);\n",
       "    } else {\n",
       "        this.send_message(\"toolbar_button\", {name: name});\n",
       "    }\n",
       "};\n",
       "\n",
       "mpl.figure.prototype.toolbar_button_onmouseover = function(tooltip) {\n",
       "    this.message.textContent = tooltip;\n",
       "};\n",
       "mpl.toolbar_items = [[\"Home\", \"Reset original view\", \"fa fa-home icon-home\", \"home\"], [\"Back\", \"Back to previous view\", \"fa fa-arrow-left icon-arrow-left\", \"back\"], [\"Forward\", \"Forward to next view\", \"fa fa-arrow-right icon-arrow-right\", \"forward\"], [\"\", \"\", \"\", \"\"], [\"Pan\", \"Pan axes with left mouse, zoom with right\", \"fa fa-arrows icon-move\", \"pan\"], [\"Zoom\", \"Zoom to rectangle\", \"fa fa-square-o icon-check-empty\", \"zoom\"], [\"\", \"\", \"\", \"\"], [\"Download\", \"Download plot\", \"fa fa-floppy-o icon-save\", \"download\"]];\n",
       "\n",
       "mpl.extensions = [\"eps\", \"jpeg\", \"pdf\", \"png\", \"ps\", \"raw\", \"svg\", \"tif\"];\n",
       "\n",
       "mpl.default_extension = \"png\";var comm_websocket_adapter = function(comm) {\n",
       "    // Create a \"websocket\"-like object which calls the given IPython comm\n",
       "    // object with the appropriate methods. Currently this is a non binary\n",
       "    // socket, so there is still some room for performance tuning.\n",
       "    var ws = {};\n",
       "\n",
       "    ws.close = function() {\n",
       "        comm.close()\n",
       "    };\n",
       "    ws.send = function(m) {\n",
       "        //console.log('sending', m);\n",
       "        comm.send(m);\n",
       "    };\n",
       "    // Register the callback with on_msg.\n",
       "    comm.on_msg(function(msg) {\n",
       "        //console.log('receiving', msg['content']['data'], msg);\n",
       "        // Pass the mpl event to the overridden (by mpl) onmessage function.\n",
       "        ws.onmessage(msg['content']['data'])\n",
       "    });\n",
       "    return ws;\n",
       "}\n",
       "\n",
       "mpl.mpl_figure_comm = function(comm, msg) {\n",
       "    // This is the function which gets called when the mpl process\n",
       "    // starts-up an IPython Comm through the \"matplotlib\" channel.\n",
       "\n",
       "    var id = msg.content.data.id;\n",
       "    // Get hold of the div created by the display call when the Comm\n",
       "    // socket was opened in Python.\n",
       "    var element = $(\"#\" + id);\n",
       "    var ws_proxy = comm_websocket_adapter(comm)\n",
       "\n",
       "    function ondownload(figure, format) {\n",
       "        window.open(figure.imageObj.src);\n",
       "    }\n",
       "\n",
       "    var fig = new mpl.figure(id, ws_proxy,\n",
       "                           ondownload,\n",
       "                           element.get(0));\n",
       "\n",
       "    // Call onopen now - mpl needs it, as it is assuming we've passed it a real\n",
       "    // web socket which is closed, not our websocket->open comm proxy.\n",
       "    ws_proxy.onopen();\n",
       "\n",
       "    fig.parent_element = element.get(0);\n",
       "    fig.cell_info = mpl.find_output_cell(\"<div id='\" + id + \"'></div>\");\n",
       "    if (!fig.cell_info) {\n",
       "        console.error(\"Failed to find cell for figure\", id, fig);\n",
       "        return;\n",
       "    }\n",
       "\n",
       "    var output_index = fig.cell_info[2]\n",
       "    var cell = fig.cell_info[0];\n",
       "\n",
       "};\n",
       "\n",
       "mpl.figure.prototype.handle_close = function(fig, msg) {\n",
       "    var width = fig.canvas.width/mpl.ratio\n",
       "    fig.root.unbind('remove')\n",
       "\n",
       "    // Update the output cell to use the data from the current canvas.\n",
       "    fig.push_to_output();\n",
       "    var dataURL = fig.canvas.toDataURL();\n",
       "    // Re-enable the keyboard manager in IPython - without this line, in FF,\n",
       "    // the notebook keyboard shortcuts fail.\n",
       "    IPython.keyboard_manager.enable()\n",
       "    $(fig.parent_element).html('<img src=\"' + dataURL + '\" width=\"' + width + '\">');\n",
       "    fig.close_ws(fig, msg);\n",
       "}\n",
       "\n",
       "mpl.figure.prototype.close_ws = function(fig, msg){\n",
       "    fig.send_message('closing', msg);\n",
       "    // fig.ws.close()\n",
       "}\n",
       "\n",
       "mpl.figure.prototype.push_to_output = function(remove_interactive) {\n",
       "    // Turn the data on the canvas into data in the output cell.\n",
       "    var width = this.canvas.width/mpl.ratio\n",
       "    var dataURL = this.canvas.toDataURL();\n",
       "    this.cell_info[1]['text/html'] = '<img src=\"' + dataURL + '\" width=\"' + width + '\">';\n",
       "}\n",
       "\n",
       "mpl.figure.prototype.updated_canvas_event = function() {\n",
       "    // Tell IPython that the notebook contents must change.\n",
       "    IPython.notebook.set_dirty(true);\n",
       "    this.send_message(\"ack\", {});\n",
       "    var fig = this;\n",
       "    // Wait a second, then push the new image to the DOM so\n",
       "    // that it is saved nicely (might be nice to debounce this).\n",
       "    setTimeout(function () { fig.push_to_output() }, 1000);\n",
       "}\n",
       "\n",
       "mpl.figure.prototype._init_toolbar = function() {\n",
       "    var fig = this;\n",
       "\n",
       "    var nav_element = $('<div/>');\n",
       "    nav_element.attr('style', 'width: 100%');\n",
       "    this.root.append(nav_element);\n",
       "\n",
       "    // Define a callback function for later on.\n",
       "    function toolbar_event(event) {\n",
       "        return fig.toolbar_button_onclick(event['data']);\n",
       "    }\n",
       "    function toolbar_mouse_event(event) {\n",
       "        return fig.toolbar_button_onmouseover(event['data']);\n",
       "    }\n",
       "\n",
       "    for(var toolbar_ind in mpl.toolbar_items){\n",
       "        var name = mpl.toolbar_items[toolbar_ind][0];\n",
       "        var tooltip = mpl.toolbar_items[toolbar_ind][1];\n",
       "        var image = mpl.toolbar_items[toolbar_ind][2];\n",
       "        var method_name = mpl.toolbar_items[toolbar_ind][3];\n",
       "\n",
       "        if (!name) { continue; };\n",
       "\n",
       "        var button = $('<button class=\"btn btn-default\" href=\"#\" title=\"' + name + '\"><i class=\"fa ' + image + ' fa-lg\"></i></button>');\n",
       "        button.click(method_name, toolbar_event);\n",
       "        button.mouseover(tooltip, toolbar_mouse_event);\n",
       "        nav_element.append(button);\n",
       "    }\n",
       "\n",
       "    // Add the status bar.\n",
       "    var status_bar = $('<span class=\"mpl-message\" style=\"text-align:right; float: right;\"/>');\n",
       "    nav_element.append(status_bar);\n",
       "    this.message = status_bar[0];\n",
       "\n",
       "    // Add the close button to the window.\n",
       "    var buttongrp = $('<div class=\"btn-group inline pull-right\"></div>');\n",
       "    var button = $('<button class=\"btn btn-mini btn-primary\" href=\"#\" title=\"Stop Interaction\"><i class=\"fa fa-power-off icon-remove icon-large\"></i></button>');\n",
       "    button.click(function (evt) { fig.handle_close(fig, {}); } );\n",
       "    button.mouseover('Stop Interaction', toolbar_mouse_event);\n",
       "    buttongrp.append(button);\n",
       "    var titlebar = this.root.find($('.ui-dialog-titlebar'));\n",
       "    titlebar.prepend(buttongrp);\n",
       "}\n",
       "\n",
       "mpl.figure.prototype._root_extra_style = function(el){\n",
       "    var fig = this\n",
       "    el.on(\"remove\", function(){\n",
       "\tfig.close_ws(fig, {});\n",
       "    });\n",
       "}\n",
       "\n",
       "mpl.figure.prototype._canvas_extra_style = function(el){\n",
       "    // this is important to make the div 'focusable\n",
       "    el.attr('tabindex', 0)\n",
       "    // reach out to IPython and tell the keyboard manager to turn it's self\n",
       "    // off when our div gets focus\n",
       "\n",
       "    // location in version 3\n",
       "    if (IPython.notebook.keyboard_manager) {\n",
       "        IPython.notebook.keyboard_manager.register_events(el);\n",
       "    }\n",
       "    else {\n",
       "        // location in version 2\n",
       "        IPython.keyboard_manager.register_events(el);\n",
       "    }\n",
       "\n",
       "}\n",
       "\n",
       "mpl.figure.prototype._key_event_extra = function(event, name) {\n",
       "    var manager = IPython.notebook.keyboard_manager;\n",
       "    if (!manager)\n",
       "        manager = IPython.keyboard_manager;\n",
       "\n",
       "    // Check for shift+enter\n",
       "    if (event.shiftKey && event.which == 13) {\n",
       "        this.canvas_div.blur();\n",
       "        // select the cell after this one\n",
       "        var index = IPython.notebook.find_cell_index(this.cell_info[0]);\n",
       "        IPython.notebook.select(index + 1);\n",
       "    }\n",
       "}\n",
       "\n",
       "mpl.figure.prototype.handle_save = function(fig, msg) {\n",
       "    fig.ondownload(fig, null);\n",
       "}\n",
       "\n",
       "\n",
       "mpl.find_output_cell = function(html_output) {\n",
       "    // Return the cell and output element which can be found *uniquely* in the notebook.\n",
       "    // Note - this is a bit hacky, but it is done because the \"notebook_saving.Notebook\"\n",
       "    // IPython event is triggered only after the cells have been serialised, which for\n",
       "    // our purposes (turning an active figure into a static one), is too late.\n",
       "    var cells = IPython.notebook.get_cells();\n",
       "    var ncells = cells.length;\n",
       "    for (var i=0; i<ncells; i++) {\n",
       "        var cell = cells[i];\n",
       "        if (cell.cell_type === 'code'){\n",
       "            for (var j=0; j<cell.output_area.outputs.length; j++) {\n",
       "                var data = cell.output_area.outputs[j];\n",
       "                if (data.data) {\n",
       "                    // IPython >= 3 moved mimebundle to data attribute of output\n",
       "                    data = data.data;\n",
       "                }\n",
       "                if (data['text/html'] == html_output) {\n",
       "                    return [cell, data, j];\n",
       "                }\n",
       "            }\n",
       "        }\n",
       "    }\n",
       "}\n",
       "\n",
       "// Register the function which deals with the matplotlib target/channel.\n",
       "// The kernel may be null if the page has been refreshed.\n",
       "if (IPython.notebook.kernel != null) {\n",
       "    IPython.notebook.kernel.comm_manager.register_target('matplotlib', mpl.mpl_figure_comm);\n",
       "}\n"
      ],
      "text/plain": [
       "<IPython.core.display.Javascript object>"
      ]
     },
     "metadata": {},
     "output_type": "display_data"
    },
    {
     "data": {
      "text/html": [
       "<img src=\"data:image/png;base64,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\" width=\"1546.8992705500186\">"
      ],
      "text/plain": [
       "<IPython.core.display.HTML object>"
      ]
     },
     "metadata": {},
     "output_type": "display_data"
    }
   ],
   "source": [
    "# Trying for higher dimensional space\n",
    "df_new = df\n",
    "df_new[\"HD2\"] = df[\"Term2\"] ** 3 + 50\n",
    "\n",
    "#plotting in 3D\n",
    "fig = plt.figure(figsize=(6,4))\n",
    "ax= fig.add_subplot(111, projection= '3d')\n",
    "\n",
    "x = df_new[\"Term1\"]\n",
    "y = df_new[\"Term2\"]\n",
    "z = df_new[\"HD2\"]\n",
    "C = df_new['class'] \n",
    "\n",
    "ax.plot(x, z, 'r+', zdir='y', zs=1.5)\n",
    "ax.plot(y, z, 'g*', zdir='x', zs=-0.5);\n"
   ]
  },
  {
   "cell_type": "markdown",
   "metadata": {},
   "source": [
    "It is possible these are linearly separable in a higher dimensional space with these features"
   ]
  },
  {
   "cell_type": "markdown",
   "metadata": {},
   "source": [
    "#### D.2.2. Linear Classification\n",
    "\n",
    "1. [ ] Pick a linear classification model: ```Perceptron``` **OR** ```sklearn.svm.LinearSVC```. \n",
    "2. [ ] Conduct the same experiments outlined in section D.1 (for the Naive Bayes model). \n",
    "3. [ ] Make sure you research the model, pick a **parameter**, and use **two** different values for the parameter to train, test, and evaluate the model. \n",
    "\n",
    "|  Model                 |  Accuracy   |  Kappa     |  3rd Metric  |\n",
    "|------------------------|-------------|------------|--------------|\n",
    "| Linear model, param1   |             |            |              |\n",
    "| Linear model, param2   |             |            |              |"
   ]
  },
  {
   "cell_type": "code",
   "execution_count": 39,
   "metadata": {},
   "outputs": [],
   "source": [
    "%matplotlib inline"
   ]
  },
  {
   "cell_type": "code",
   "execution_count": 40,
   "metadata": {},
   "outputs": [
    {
     "data": {
      "image/png": "[encoded data removed]",
      "text/plain": [
       "<Figure size 432x288 with 2 Axes>"
      ]
     },
     "metadata": {
      "needs_background": "light"
     },
     "output_type": "display_data"
    }
   ],
   "source": [
    "from sklearn.svm import LinearSVC\n",
    "# 1st paramter C = 0.05\n",
    "model = LinearSVC(max_iter = 10000, class_weight  = 'balanced', C=0.05).fit(X_train, train.label)\n",
    "y_test = model.predict(X_test)\n",
    "\n",
    "confusion_matrix(y_test, test.label)\n",
    "plot_confusion_matrix(model, X_test, test.label, values_format='d');\n",
    "acc = round(accuracy_score(y_test, test.label),2)\n",
    "kappa = round(cohen_kappa_score(y_test, test.label),2)\n",
    "hamming = round(hamming_loss(y_test, test.label),2)\n"
   ]
  },
  {
   "cell_type": "code",
   "execution_count": 41,
   "metadata": {},
   "outputs": [
    {
     "data": {
      "text/html": [
       "<div>\n",
       "<style scoped>\n",
       "    .dataframe tbody tr th:only-of-type {\n",
       "        vertical-align: middle;\n",
       "    }\n",
       "\n",
       "    .dataframe tbody tr th {\n",
       "        vertical-align: top;\n",
       "    }\n",
       "\n",
       "    .dataframe thead th {\n",
       "        text-align: right;\n",
       "    }\n",
       "</style>\n",
       "<table border=\"1\" class=\"dataframe\">\n",
       "  <thead>\n",
       "    <tr style=\"text-align: right;\">\n",
       "      <th></th>\n",
       "      <th>Model</th>\n",
       "      <th>Accuracy</th>\n",
       "      <th>Kappa</th>\n",
       "      <th>Hamming Loss</th>\n",
       "    </tr>\n",
       "  </thead>\n",
       "  <tbody>\n",
       "    <tr>\n",
       "      <th>0</th>\n",
       "      <td>Linear model, param1</td>\n",
       "      <td>0.91</td>\n",
       "      <td>0.82</td>\n",
       "      <td>0.09</td>\n",
       "    </tr>\n",
       "  </tbody>\n",
       "</table>\n",
       "</div>"
      ],
      "text/plain": [
       "                  Model Accuracy Kappa Hamming Loss\n",
       "0  Linear model, param1     0.91  0.82         0.09"
      ]
     },
     "execution_count": 41,
     "metadata": {},
     "output_type": "execute_result"
    }
   ],
   "source": [
    "df = pd.DataFrame(data=np.array([\"Linear model, param1\", acc, kappa,hamming]).reshape(1,4), \n",
    "                  columns=[\"Model\",\"Accuracy\",\"Kappa\",\"Hamming Loss\"])\n",
    "df"
   ]
  },
  {
   "cell_type": "code",
   "execution_count": 42,
   "metadata": {},
   "outputs": [
    {
     "data": {
      "image/png": "[encoded data removed]",
      "text/plain": [
       "<Figure size 432x288 with 2 Axes>"
      ]
     },
     "metadata": {
      "needs_background": "light"
     },
     "output_type": "display_data"
    }
   ],
   "source": [
    "# 2nd paramter C = 0.1\n",
    "model = LinearSVC(max_iter = 10000, class_weight  = 'balanced', C=0.01).fit(X_train, train.label)\n",
    "y_test = model.predict(X_test)\n",
    "\n",
    "confusion_matrix(y_test, test.label)\n",
    "plot_confusion_matrix(model, X_test, test.label, values_format='d');\n",
    "acc = round(accuracy_score(y_test, test.label),2)\n",
    "kappa = round(cohen_kappa_score(y_test, test.label),2)\n",
    "hamming = round(hamming_loss(y_test, test.label),2)"
   ]
  },
  {
   "cell_type": "code",
   "execution_count": 43,
   "metadata": {},
   "outputs": [
    {
     "name": "stdout",
     "output_type": "stream",
     "text": [
      "                Model Accuracy Kappa Hamming Loss\n",
      " Linear model, param1     0.91  0.82         0.09\n",
      " Linear model, param2     0.92  0.84         0.08\n"
     ]
    }
   ],
   "source": [
    "new_row = {\"Model\":\"Linear model, param2\",\"Accuracy\": acc,\"Kappa\":kappa,\"Hamming Loss\":hamming}\n",
    "df = df.append(new_row,ignore_index=True)\n",
    "print (df.to_string(index=False))"
   ]
  },
  {
   "cell_type": "markdown",
   "metadata": {},
   "source": [
    "### D.3 Non-linear Classification or Alternative (1 points)\n",
    "\n",
    "Pick **one classification model** from the following: \n",
    "+ Non-linear Support Vector Machines (SVM) ```sklearn.svm.SVC```\n",
    "+ Decision Tree: ```sklearn.tree.DecisionTreeClassifier```\n",
    "+ Lazy Learning: ```sklearn.neighbors.KNeighborsClassifier```\n",
    "+ Or any other classification model in ```sklearn```\n",
    "\n",
    "Conduct the **same analysis as in D.2.2.**\n",
    "\n",
    "|  Model                 |  Accuracy   |  Kappa     |  3rd Metric  |\n",
    "|------------------------|-------------|------------|--------------|\n",
    "| Third model, param1    |             |            |              |\n",
    "| Third model, param2    |             |            |              |"
   ]
  },
  {
   "cell_type": "code",
   "execution_count": 1,
   "metadata": {},
   "outputs": [
    {
     "ename": "NameError",
     "evalue": "name 'X_train' is not defined",
     "output_type": "error",
     "traceback": [
      "\u001b[1;31m---------------------------------------------------------------------------\u001b[0m",
      "\u001b[1;31mNameError\u001b[0m                                 Traceback (most recent call last)",
      "\u001b[1;32m<ipython-input-1-7e2a5893461a>\u001b[0m in \u001b[0;36m<module>\u001b[1;34m\u001b[0m\n\u001b[0;32m      1\u001b[0m \u001b[1;32mfrom\u001b[0m \u001b[0msklearn\u001b[0m\u001b[1;33m.\u001b[0m\u001b[0mtree\u001b[0m \u001b[1;32mimport\u001b[0m \u001b[0mDecisionTreeClassifier\u001b[0m\u001b[1;33m\u001b[0m\u001b[1;33m\u001b[0m\u001b[0m\n\u001b[1;32m----> 2\u001b[1;33m \u001b[0mmodel\u001b[0m \u001b[1;33m=\u001b[0m \u001b[0mDecisionTreeClassifier\u001b[0m\u001b[1;33m(\u001b[0m\u001b[1;33m)\u001b[0m\u001b[1;33m.\u001b[0m\u001b[0mfit\u001b[0m\u001b[1;33m(\u001b[0m\u001b[0mX_train\u001b[0m\u001b[1;33m,\u001b[0m \u001b[0mtrain\u001b[0m\u001b[1;33m.\u001b[0m\u001b[0mlabel\u001b[0m\u001b[1;33m)\u001b[0m\u001b[1;33m\u001b[0m\u001b[1;33m\u001b[0m\u001b[0m\n\u001b[0m\u001b[0;32m      3\u001b[0m \u001b[0my_test\u001b[0m \u001b[1;33m=\u001b[0m \u001b[0mmodel\u001b[0m\u001b[1;33m.\u001b[0m\u001b[0mpredict\u001b[0m\u001b[1;33m(\u001b[0m\u001b[0mX_test\u001b[0m\u001b[1;33m)\u001b[0m\u001b[1;33m\u001b[0m\u001b[1;33m\u001b[0m\u001b[0m\n\u001b[0;32m      4\u001b[0m \u001b[1;33m\u001b[0m\u001b[0m\n\u001b[0;32m      5\u001b[0m \u001b[0mconfusion_matrix\u001b[0m\u001b[1;33m(\u001b[0m\u001b[0my_test\u001b[0m\u001b[1;33m,\u001b[0m \u001b[0mtest\u001b[0m\u001b[1;33m.\u001b[0m\u001b[0mlabel\u001b[0m\u001b[1;33m)\u001b[0m\u001b[1;33m\u001b[0m\u001b[1;33m\u001b[0m\u001b[0m\n",
      "\u001b[1;31mNameError\u001b[0m: name 'X_train' is not defined"
     ]
    }
   ],
   "source": [
    "from sklearn.tree import DecisionTreeClassifier\n",
    "model = DecisionTreeClassifier().fit(X_train, train.label)\n",
    "y_test = model.predict(X_test)\n",
    "\n",
    "confusion_matrix(y_test, test.label)\n",
    "plot_confusion_matrix(model, X_test, test.label, values_format='d');\n",
    "acc = round(accuracy_score(y_test, test.label),2)\n",
    "kappa = round(cohen_kappa_score(y_test, test.label),2)\n",
    "hamming = round(hamming_loss(y_test, test.label),2)"
   ]
  },
  {
   "cell_type": "code",
   "execution_count": 45,
   "metadata": {},
   "outputs": [],
   "source": [
    "df = pd.DataFrame(data=np.array([\"Third model, param1\", acc, kappa,hamming]).reshape(1,4), \n",
    "                  columns=[\"Model\",\"Accuracy\",\"Kappa\",\"Hamming Loss\"])"
   ]
  },
  {
   "cell_type": "code",
   "execution_count": 46,
   "metadata": {},
   "outputs": [
    {
     "data": {
      "image/png": "[encoded data removed]",
      "text/plain": [
       "<Figure size 432x288 with 2 Axes>"
      ]
     },
     "metadata": {
      "needs_background": "light"
     },
     "output_type": "display_data"
    }
   ],
   "source": [
    "model = DecisionTreeClassifier(criterion='entropy').fit(X_train, train.label)\n",
    "y_test = model.predict(X_test)\n",
    "\n",
    "confusion_matrix(y_test, test.label)\n",
    "plot_confusion_matrix(model, X_test, test.label, values_format='d');\n",
    "acc = round(accuracy_score(y_test, test.label),2)\n",
    "kappa = round(cohen_kappa_score(y_test, test.label),2)\n",
    "hamming = round(hamming_loss(y_test, test.label),2)"
   ]
  },
  {
   "cell_type": "code",
   "execution_count": 47,
   "metadata": {},
   "outputs": [
    {
     "name": "stdout",
     "output_type": "stream",
     "text": [
      "               Model Accuracy Kappa Hamming Loss\n",
      " Third model, param1     0.83  0.65         0.17\n",
      " Third model, param2     0.82  0.64         0.18\n"
     ]
    }
   ],
   "source": [
    "new_row = {\"Model\":\"Third model, param2\",\"Accuracy\": acc,\"Kappa\":kappa,\"Hamming Loss\":hamming}\n",
    "df = df.append(new_row,ignore_index=True)\n",
    "print (df.to_string(index=False))"
   ]
  },
  {
   "cell_type": "markdown",
   "metadata": {},
   "source": [
    "## E. Conclusion (1 point)\n",
    "\n",
    "+ [ ] Compare the results in section D. \n",
    "+ [ ] Review your classification task and objectives. \n",
    "+ [ ] Which model gives you the best result so far? Why? \n",
    "+ [ ] Thoughts on future work on the data? "
   ]
  }
 ],
 "metadata": {
  "kernelspec": {
   "display_name": "Python 3",
   "language": "python",
   "name": "python3"
  },
  "language_info": {
   "codemirror_mode": {
    "name": "ipython",
    "version": 3
   },
   "file_extension": ".py",
   "mimetype": "text/x-python",
   "name": "python",
   "nbconvert_exporter": "python",
   "pygments_lexer": "ipython3",
   "version": "3.7.6"
  }
 },
 "nbformat": 4,
 "nbformat_minor": 4
}
